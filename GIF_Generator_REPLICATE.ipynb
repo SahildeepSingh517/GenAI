{
  "nbformat": 4,
  "nbformat_minor": 0,
  "metadata": {
    "colab": {
      "provenance": [],
      "authorship_tag": "ABX9TyOyKX6hXao5bgBmgr537VVT",
      "include_colab_link": true
    },
    "kernelspec": {
      "name": "python3",
      "display_name": "Python 3"
    },
    "language_info": {
      "name": "python"
    }
  },
  "cells": [
    {
      "cell_type": "markdown",
      "metadata": {
        "id": "view-in-github",
        "colab_type": "text"
      },
      "source": [
        "<a href=\"https://colab.research.google.com/github/SahildeepSingh517/GenAI/blob/main/GIF_Generator_REPLICATE.ipynb\" target=\"_parent\"><img src=\"https://colab.research.google.com/assets/colab-badge.svg\" alt=\"Open In Colab\"/></a>"
      ]
    },
    {
      "cell_type": "markdown",
      "source": [
        "#TITLE\n",
        "##Replicate's Image and GIF Generative AI\n",
        "##SCOPE:\n",
        "This project seeks to study and utilize the powers of AI-driven picture and GIF production by using Replicate's picture and GIF Generative AI via Google Colab notebooks with API tokens. Emphasizing the importance of creative exploration, it aims to use AI technology to create a wide range of visual material, encourage artistic expression, and push the boundaries of generative art.\n"
      ],
      "metadata": {
        "id": "khass2LRj6HV"
      }
    },
    {
      "cell_type": "markdown",
      "source": [
        "#Group Members' Information\n",
        "* NAME: Anmoldeep singh\n",
        "\n",
        "STUDENT ID: 4356097\n",
        "\n",
        "* NAME: Sahildeep singh\n",
        "\n",
        "STUDENT ID: 4356104"
      ],
      "metadata": {
        "id": "KyLlDRHdkkOd"
      }
    },
    {
      "cell_type": "markdown",
      "source": [
        "#Detailed Project Description\n",
        "This project depends on the use of Replicate's Image and GIF Generative AI in Google Colab notebooks with API token integration. Its main objective is to learn how AI may be used to create artistic pictures and GIFs. By promoting experimentation and artistic expression, it seeks to produce a diverse array of visual content and broaden the scope of generative art. The project's objective is to transform this industry by bringing new concepts for digital production using artificial intelligence. Through collaborative initiatives and increased knowledge of AI-powered creative processes, we may foster an innovative and exploratory community.\n",
        "##OBJECTIVES\n",
        "1. Explore Replicate's artificial intelligence for generating images and GIFs within the Google Colab environment.\n",
        "2. Utilize AI to generate artistic content across various visual media platforms.\n",
        "3. Foster creative expression and innovation through AI-driven content creation.\n",
        "4. Drive innovation in digital production by leveraging AI technologies.\n",
        "5. Promote community collaboration and information exchange within AI-driven creative processes.\n",
        "##EXPECTED OUTCOMES\n",
        "1. Generate diverse visual content to cater to various artistic preferences and interests.\n",
        "2. Produce captivating and imaginative material to capture audience attention and engagement.\n",
        "3. Enhance appreciation and comprehension of AI's role in artistic creation and innovation.\n",
        "4. Cultivate curiosity and engagement by sharing visual content and documenting the creative journey.\n",
        "5. Foster a collaborative society centered around AI-driven creative approaches, promoting knowledge sharing and cooperation."
      ],
      "metadata": {
        "id": "9koYM6wZsUZ8"
      }
    },
    {
      "cell_type": "markdown",
      "source": [
        "#Modification/New Addition Specification\n",
        "1. Overseeing schedule, assignments, and team collaboration for effective project management.\n",
        "2. Documenting functional and non-functional requirements to guide platform development.\n",
        "3. Integrating Replicate's Image and GIF Generative AI into the platform via API integration.\n",
        "4. Conducting testing and quality assurance to guarantee a seamless user experience.\n",
        "5. Developing editing tools and prompt input features to contribute to content creation and customization.\n",
        "\n",
        "\n",
        "##Justification of their importance or impact\n",
        "Through the distribution of easily available AI-powered content production tools, this initiative seeks to democratize creativity. We encourage creativity, boost user engagement, and make content production easier for a variety of uses by using Replicate's AI. By encouraging engagement, our idea boosts user happiness and opens the door to new forms of creative expression."
      ],
      "metadata": {
        "id": "FYgK8k0rlJSa"
      }
    },
    {
      "cell_type": "markdown",
      "source": [
        "#Criteria-Specifics\n",
        "\n",
        "##Relevance\n",
        "1. AI-driven picture and GIF generation fosters creative expression.\n",
        "2. Challenges conventional notions of authorship and originality in generative art.\n",
        "3. Drives technical advancement by integrating artificial intelligence into visual art.\n",
        "4. Serves as an educational tool for demonstrating the creative potential of AI models.\n",
        "5. Cultivates a collaborative environment for individuals interested in AI, art, and development.\n",
        "6. Holds potential for commercial applications in advertising, entertainment, and digital media industries.\n",
        "7. Sparks discussions on the ethical implications of AI-generated media.\n",
        "\n",
        "\n",
        "#Application\n",
        "1. Integrate AI-generated GIFs and images into entertainment media like video games and movies for visual effects, animations, memes, and digital art.\n",
        "2. Utilize AI-created content in advertisements, marketing campaigns, and social media initiatives to enhance engagement and awareness.\n",
        "3. Enhance online courses, presentations, and learning materials with AI-generated GIFs and graphics to inspire students and foster creativity.\n",
        "4. Drive advancements in generative art and AI algorithm development through the utilization of AI models.\n",
        "5. Incorporate AI-generated images into product design using immersive technologies like VR and AR to create innovative experiences.\n",
        "6. Utilize AI-generated artwork in hospital settings for art therapy, relaxation, and stress reduction purposes.\n",
        "7. Share AI-created GIFs and images on social media platforms to captivate audiences and demonstrate creative prowess.\n",
        "8. Explore AI-powered creation to stimulate discussions on ethics, individuality, and the creative process.\n",
        "\n",
        "\n",
        "##Innovation and technical proficiency\n",
        "1. Integrate Replicate's image and GIF generative AI into the Google Colab platform, ensuring secure access via API token authentication.\n",
        "2. Design user-friendly interfaces for AI models to enable seamless interaction, including parameter tuning for personalized expressive options.\n",
        "3. Implement robust error handling and logging mechanisms to maintain project stability and execution reliability.\n",
        "4. Improve the speed and efficiency of AI models through performance tuning techniques.\n",
        "5. Provide comprehensive online training and documentation resources to support users in utilizing AI services effectively.\n",
        "6. Foster community engagement through forums, chat groups, and feedback channels to encourage collaboration and interaction among users."
      ],
      "metadata": {
        "id": "bq2OIHMak0Op"
      }
    },
    {
      "cell_type": "markdown",
      "source": [
        "#**Installing Replicate for AI Image and GIF Generation**\n",
        "Easily install Replicate's AI models for image and GIF generation within Google Colab. Get started with creative AI projects."
      ],
      "metadata": {
        "id": "oLTH4d8Snwcc"
      }
    },
    {
      "cell_type": "code",
      "source": [
        "# @title Install Replicate\n",
        "!pip install replicate"
      ],
      "metadata": {
        "colab": {
          "base_uri": "https://localhost:8080/"
        },
        "id": "M5iNP20tnqyo",
        "outputId": "61c1c8d4-8738-42d0-bf9d-32739e3d93cb"
      },
      "execution_count": null,
      "outputs": [
        {
          "output_type": "stream",
          "name": "stdout",
          "text": [
            "Collecting replicate\n",
            "  Downloading replicate-0.25.1-py3-none-any.whl (39 kB)\n",
            "Collecting httpx<1,>=0.21.0 (from replicate)\n",
            "  Downloading httpx-0.27.0-py3-none-any.whl (75 kB)\n",
            "\u001b[2K     \u001b[90m━━━━━━━━━━━━━━━━━━━━━━━━━━━━━━━━━━━━━━━━\u001b[0m \u001b[32m75.6/75.6 kB\u001b[0m \u001b[31m3.1 MB/s\u001b[0m eta \u001b[36m0:00:00\u001b[0m\n",
            "\u001b[?25hRequirement already satisfied: packaging in /usr/local/lib/python3.10/dist-packages (from replicate) (24.0)\n",
            "Requirement already satisfied: pydantic>1.10.7 in /usr/local/lib/python3.10/dist-packages (from replicate) (2.6.4)\n",
            "Requirement already satisfied: typing-extensions>=4.5.0 in /usr/local/lib/python3.10/dist-packages (from replicate) (4.10.0)\n",
            "Requirement already satisfied: anyio in /usr/local/lib/python3.10/dist-packages (from httpx<1,>=0.21.0->replicate) (3.7.1)\n",
            "Requirement already satisfied: certifi in /usr/local/lib/python3.10/dist-packages (from httpx<1,>=0.21.0->replicate) (2024.2.2)\n",
            "Collecting httpcore==1.* (from httpx<1,>=0.21.0->replicate)\n",
            "  Downloading httpcore-1.0.5-py3-none-any.whl (77 kB)\n",
            "\u001b[2K     \u001b[90m━━━━━━━━━━━━━━━━━━━━━━━━━━━━━━━━━━━━━━━━\u001b[0m \u001b[32m77.9/77.9 kB\u001b[0m \u001b[31m6.9 MB/s\u001b[0m eta \u001b[36m0:00:00\u001b[0m\n",
            "\u001b[?25hRequirement already satisfied: idna in /usr/local/lib/python3.10/dist-packages (from httpx<1,>=0.21.0->replicate) (3.6)\n",
            "Requirement already satisfied: sniffio in /usr/local/lib/python3.10/dist-packages (from httpx<1,>=0.21.0->replicate) (1.3.1)\n",
            "Collecting h11<0.15,>=0.13 (from httpcore==1.*->httpx<1,>=0.21.0->replicate)\n",
            "  Downloading h11-0.14.0-py3-none-any.whl (58 kB)\n",
            "\u001b[2K     \u001b[90m━━━━━━━━━━━━━━━━━━━━━━━━━━━━━━━━━━━━━━━━\u001b[0m \u001b[32m58.3/58.3 kB\u001b[0m \u001b[31m3.9 MB/s\u001b[0m eta \u001b[36m0:00:00\u001b[0m\n",
            "\u001b[?25hRequirement already satisfied: annotated-types>=0.4.0 in /usr/local/lib/python3.10/dist-packages (from pydantic>1.10.7->replicate) (0.6.0)\n",
            "Requirement already satisfied: pydantic-core==2.16.3 in /usr/local/lib/python3.10/dist-packages (from pydantic>1.10.7->replicate) (2.16.3)\n",
            "Requirement already satisfied: exceptiongroup in /usr/local/lib/python3.10/dist-packages (from anyio->httpx<1,>=0.21.0->replicate) (1.2.0)\n",
            "Installing collected packages: h11, httpcore, httpx, replicate\n",
            "Successfully installed h11-0.14.0 httpcore-1.0.5 httpx-0.27.0 replicate-0.25.1\n"
          ]
        }
      ]
    },
    {
      "cell_type": "markdown",
      "source": [
        "# **Setting Up Replicate API Token for Integration**\n",
        "Configure your Replicate API token for seamless integration with Google Colab. Access your token [here](https://replicate.com/signin?next=/account/api-tokens)."
      ],
      "metadata": {
        "id": "OJhupjq8oPIQ"
      }
    },
    {
      "cell_type": "code",
      "source": [
        "\n",
        "API = \"r8_WYLMyifB68H4rrG0NCIy6JCj2jsVJz30yj4zN\"\n",
        "import os\n",
        "\n",
        "os.environ[\"REPLICATE_API_TOKEN\"] = API #find it here: https://replicate.com/signin?next=/account/api-tokens\n",
        "\n"
      ],
      "metadata": {
        "id": "tbS_YvZvoRc4"
      },
      "execution_count": null,
      "outputs": []
    },
    {
      "cell_type": "markdown",
      "source": [
        "# **Generating Image with Replicate AI**\n",
        "Utilize Replicate AI to generate an image based on the prompt \"monkey is standing on top of a car\". Access the generated image below."
      ],
      "metadata": {
        "id": "9MDk7KhIoVVJ"
      }
    },
    {
      "cell_type": "code",
      "source": [
        "\n",
        "# @title Generate Image\n",
        "prompt = \"monkey is standing on top of a car\"\n",
        "import replicate\n",
        "\n",
        "output = replicate.run(\n",
        "  \"stability-ai/stable-diffusion:27b93a2413e7f36cd83da926f3656280b2931564ff050bf9575f1fdf9bcd7478\",\n",
        "  input={\"prompt\":prompt}\n",
        ")\n",
        "\n",
        "output\n"
      ],
      "metadata": {
        "colab": {
          "base_uri": "https://localhost:8080/"
        },
        "id": "xSr0OmTZoWRl",
        "outputId": "a704a457-32eb-46ae-db08-fef3352724df"
      },
      "execution_count": null,
      "outputs": [
        {
          "output_type": "execute_result",
          "data": {
            "text/plain": [
              "['https://replicate.delivery/pbxt/012RLZoq6SJ8A1HTP4vrd5sYfpo8ERKVna7k75Zojv1NyelSA/out-0.png']"
            ]
          },
          "metadata": {},
          "execution_count": 3
        }
      ]
    },
    {
      "cell_type": "markdown",
      "source": [
        "# **Displaying Generated Image**\n",
        "View the image generated by Replicate AI based on the provided prompt."
      ],
      "metadata": {
        "id": "xyzfXs9EoikQ"
      }
    },
    {
      "cell_type": "code",
      "source": [
        "from IPython.display import Image\n",
        "output_image = output\n",
        "Image(url=output_image[0])"
      ],
      "metadata": {
        "colab": {
          "base_uri": "https://localhost:8080/",
          "height": 534
        },
        "id": "69GjWkpqohMn",
        "outputId": "a298f0ac-f2af-4eaf-809c-d668e227caf8"
      },
      "execution_count": null,
      "outputs": [
        {
          "output_type": "execute_result",
          "data": {
            "text/html": [
              "<img src=\"https://replicate.delivery/pbxt/012RLZoq6SJ8A1HTP4vrd5sYfpo8ERKVna7k75Zojv1NyelSA/out-0.png\"/>"
            ],
            "text/plain": [
              "<IPython.core.display.Image object>"
            ]
          },
          "metadata": {},
          "execution_count": 4
        }
      ]
    },
    {
      "cell_type": "markdown",
      "source": [
        "# **Generating GIF Animation with Replicate AI**\n",
        "Use Replicate AI to create a GIF animation based on the provided prompts: \"monkey is standing on top of a car\" and \"monkey jumps on the ground from the car\". The output GIF is formatted to ping-pong for seamless looping. View the generated animation below."
      ],
      "metadata": {
        "id": "VDYlMcJ8o29p"
      }
    },
    {
      "cell_type": "code",
      "source": [
        "# @title Video/gif/animation/Generation\n",
        "import replicate\n",
        "\n",
        "output = replicate.run(\n",
        "    \"andreasjansson/stable-diffusion-animation:ca1f5e306e5721e19c473e0d094e6603f0456fe759c10715fcd6c1b79242d4a5\",\n",
        "    input={\n",
        "        \"prompt_start\": \"monkey is standing on top of a car\",\n",
        "        \"prompt_end\": \"monkey jumps on the ground from the car\",\n",
        "        \"output_format\": \"gif\",\n",
        "        \"gif_ping_pong\": True\n",
        "    }\n",
        ")\n",
        "\n",
        "output"
      ],
      "metadata": {
        "colab": {
          "base_uri": "https://localhost:8080/"
        },
        "id": "WguOcXJKolCo",
        "outputId": "3c2b64f6-9229-4630-dee1-3eb9d7bd9356"
      },
      "execution_count": null,
      "outputs": [
        {
          "output_type": "execute_result",
          "data": {
            "text/plain": [
              "<generator object Prediction.output_iterator at 0x7c38a3f8ee30>"
            ]
          },
          "metadata": {},
          "execution_count": 5
        }
      ]
    },
    {
      "cell_type": "markdown",
      "source": [
        "# **Output of Video Generation**\n",
        "Below is the output of the video generation process. The details of the generated video can be accessed using the provided schema."
      ],
      "metadata": {
        "id": "ZFz3ctrcpAKs"
      }
    },
    {
      "cell_type": "code",
      "source": [
        "\n",
        "# @title generate video\n",
        "for item in output:\n",
        "     #https://replicate.com/andreasjansson/stable-diffusion-animation/versions/ca1f5e306e5721e19c473e0d094e6603f0456fe759c10715fcd6c1b79242d4a5/api#output-schema\n",
        "    print(item)"
      ],
      "metadata": {
        "colab": {
          "base_uri": "https://localhost:8080/"
        },
        "id": "DGdXsVSJo8Zy",
        "outputId": "3eda5580-f720-457f-bdce-6f75f3a2d875"
      },
      "execution_count": null,
      "outputs": [
        {
          "output_type": "stream",
          "name": "stdout",
          "text": [
            "https://replicate.delivery/pbxt/z37CUUsl9sYhBFfFlCeV2UGI26L022Peuo85PqxwpZeOfsvUC/video.gif\n"
          ]
        }
      ]
    },
    {
      "cell_type": "markdown",
      "source": [
        "# **Accessing Video on Google Colab**\n",
        "Retrieve the URL of the generated video to view it directly within the Google Colab environment."
      ],
      "metadata": {
        "id": "zMyrYC6ZpEcG"
      }
    },
    {
      "cell_type": "code",
      "source": [
        "\n",
        "# @title get the video on colab\n",
        "gif_url= item[0:len(item)]"
      ],
      "metadata": {
        "id": "Kh0qouDypDRW"
      },
      "execution_count": null,
      "outputs": []
    },
    {
      "cell_type": "markdown",
      "source": [
        "# **Displaying Generated Video**\n",
        "The generated video is displayed below. Additionally, you can download the video by clicking the gif_url."
      ],
      "metadata": {
        "id": "krXDvi45pLWA"
      }
    },
    {
      "cell_type": "code",
      "source": [
        "# @title Show the video\n",
        "import requests\n",
        "from IPython.display import display, Image\n",
        "from PIL import Image as PILImage\n",
        "from io import BytesIO\n",
        "response = requests.get(gif_url)\n",
        "if response.status_code == 200:\n",
        "    # Display the GIF in the notebook\n",
        "    display(Image(url=gif_url))\n",
        "\n",
        "    # Save the GIF in the Colab environment\n",
        "    with open(\"gif_output.gif\", \"wb\") as f:\n",
        "        f.write(response.content)\n",
        "\n",
        "    # Show a saved GIF using PIL\n",
        "    saved_gif = PILImage.open(\"gif_output.gif\")\n",
        "    saved_gif.show()\n",
        "else:\n",
        "    print(\"Failed to fetch GIF\")"
      ],
      "metadata": {
        "colab": {
          "base_uri": "https://localhost:8080/",
          "height": 534
        },
        "id": "S-S2d4wgpKSA",
        "outputId": "2321c7b6-af4e-4b69-9064-644cf3340666"
      },
      "execution_count": null,
      "outputs": [
        {
          "output_type": "display_data",
          "data": {
            "text/html": [
              "<img src=\"https://replicate.delivery/pbxt/z37CUUsl9sYhBFfFlCeV2UGI26L022Peuo85PqxwpZeOfsvUC/video.gif\"/>"
            ],
            "text/plain": [
              "<IPython.core.display.Image object>"
            ]
          },
          "metadata": {}
        }
      ]
    },
    {
      "cell_type": "markdown",
      "source": [
        "#REFERENCES\n",
        "* GitHub turna1/GenAI https://github.com/turna1/GenAI\n",
        "* Replicate-API Tokens.https://replicate.com/account/api-token\n",
        "*  High-performance image generation using Stable Diffusion in KerasCV. https://keras.io/guides/keras_cv/generate_images_with_stable_diffusion/"
      ],
      "metadata": {
        "id": "FIvNzR8xtpV3"
      }
    },
    {
      "cell_type": "markdown",
      "source": [
        "#VIDEO PRESENTATION"
      ],
      "metadata": {
        "id": "M0pvDXKatq4R"
      }
    },
    {
      "cell_type": "markdown",
      "source": [
        "#THANK YOU"
      ],
      "metadata": {
        "id": "-0pSNpEvtvsl"
      }
    },
    {
      "cell_type": "code",
      "source": [],
      "metadata": {
        "id": "cIwA9jQztxBu"
      },
      "execution_count": null,
      "outputs": []
    }
  ]
}